{
 "cells": [
  {
   "cell_type": "code",
   "execution_count": 1,
   "id": "28a074de",
   "metadata": {},
   "outputs": [
    {
     "name": "stdout",
     "output_type": "stream",
     "text": [
      "{'name': 'Tanvir', 'look': 'handsome', 'DOB': 2003}\n"
     ]
    }
   ],
   "source": [
    "# Dictionary\n",
    "# Dictionaries are used to store data values in key:value pairs\n",
    "# A dictonary is collection which is ordered*, changeable and do not allow duplicates\n",
    "mydict = {\n",
    "    \"name\": \"Tanvir\", \n",
    "    \"look\": \"handsome\",\n",
    "    \"DOB\": 2003\n",
    "}\n",
    "print(mydict)"
   ]
  },
  {
   "cell_type": "code",
   "execution_count": 3,
   "id": "aaec502f",
   "metadata": {},
   "outputs": [
    {
     "name": "stdout",
     "output_type": "stream",
     "text": [
      "{'brand': 'BMW', 'model': 'M5 CS', 'electric': False, 'year': '1996', 'colors': ['red', 'white', 'blue', 'black']}\n",
      "M5 CS\n",
      "5\n"
     ]
    }
   ],
   "source": [
    "# The values in dictionary items can be of any data type\n",
    "mydict = {\n",
    "    \"brand\": \"BMW\",\n",
    "    \"model\" : \"M5 CS\",\n",
    "    \"electric\": False,\n",
    "    \"year\": \"1996\",\n",
    "    \"colors\": ['red','white','blue','black']\n",
    "}\n",
    "print(mydict)\n",
    "\n",
    "#print the 'model' value of the dictionary \n",
    "print(mydict[\"model\"])\n",
    "\n",
    "# print the number of items in the dictionary by using len() function\n",
    "print(len(mydict))"
   ]
  },
  {
   "cell_type": "code",
   "execution_count": null,
   "id": "7e1002e0",
   "metadata": {},
   "outputs": [
    {
     "name": "stdout",
     "output_type": "stream",
     "text": [
      "{'brand': 'BMW', 'model': '7X', 'electric': False, 'year': '1996', 'colors': ['red', 'white', 'blue', 'black']}\n"
     ]
    }
   ],
   "source": [
    "# duplicate values will overwrite existing values\n",
    "mydict = {\n",
    "    \"brand\": \"BMW\",\n",
    "    \"model\" : \"M5 CS\",\n",
    "    \"model\" : \"7X\",\n",
    "    \"electric\": False,\n",
    "    \"year\": \"1996\",\n",
    "    \"colors\": ['red','white','blue','black']\n",
    "}\n",
    "print(mydict) #it will be showing model name \"7X\" instead of \"M5 CS\""
   ]
  }
 ],
 "metadata": {
  "kernelspec": {
   "display_name": "Python 3",
   "language": "python",
   "name": "python3"
  },
  "language_info": {
   "codemirror_mode": {
    "name": "ipython",
    "version": 3
   },
   "file_extension": ".py",
   "mimetype": "text/x-python",
   "name": "python",
   "nbconvert_exporter": "python",
   "pygments_lexer": "ipython3",
   "version": "3.12.10"
  }
 },
 "nbformat": 4,
 "nbformat_minor": 5
}
