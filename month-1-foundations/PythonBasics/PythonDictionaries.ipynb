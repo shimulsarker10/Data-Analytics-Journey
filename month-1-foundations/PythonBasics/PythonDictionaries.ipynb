{
 "cells": [
  {
   "cell_type": "code",
   "execution_count": 1,
   "id": "28a074de",
   "metadata": {},
   "outputs": [
    {
     "name": "stdout",
     "output_type": "stream",
     "text": [
      "{'name': 'Tanvir', 'look': 'handsome', 'DOB': 2003}\n"
     ]
    }
   ],
   "source": [
    "# Dictionary\n",
    "# Dictionaries are used to store data values in key:value pairs\n",
    "# A dictonary is collection which is ordered*, changeable and do not allow duplicates\n",
    "mydict = {\n",
    "    \"name\": \"Tanvir\", \n",
    "    \"look\": \"handsome\",\n",
    "    \"DOB\": 2003\n",
    "}\n",
    "print(mydict)"
   ]
  },
  {
   "cell_type": "code",
   "execution_count": 3,
   "id": "aaec502f",
   "metadata": {},
   "outputs": [
    {
     "name": "stdout",
     "output_type": "stream",
     "text": [
      "{'brand': 'BMW', 'model': 'M5 CS', 'electric': False, 'year': '1996', 'colors': ['red', 'white', 'blue', 'black']}\n",
      "M5 CS\n",
      "5\n"
     ]
    }
   ],
   "source": [
    "# The values in dictionary items can be of any data type\n",
    "mydict = {\n",
    "    \"brand\": \"BMW\",\n",
    "    \"model\" : \"M5 CS\",\n",
    "    \"electric\": False,\n",
    "    \"year\": \"1996\",\n",
    "    \"colors\": ['red','white','blue','black']\n",
    "}\n",
    "print(mydict)\n",
    "\n",
    "#print the 'model' value of the dictionary \n",
    "print(mydict[\"model\"])\n",
    "\n",
    "# print the number of items in the dictionary by using len() function\n",
    "print(len(mydict))"
   ]
  },
  {
   "cell_type": "code",
   "execution_count": null,
   "id": "7e1002e0",
   "metadata": {},
   "outputs": [
    {
     "name": "stdout",
     "output_type": "stream",
     "text": [
      "{'brand': 'BMW', 'model': '7X', 'electric': False, 'year': '1996', 'colors': ['red', 'white', 'blue', 'black']}\n"
     ]
    }
   ],
   "source": [
    "# duplicate values will overwrite existing values\n",
    "mydict = {\n",
    "    \"brand\": \"BMW\",\n",
    "    \"model\" : \"M5 CS\",\n",
    "    \"model\" : \"7X\",\n",
    "    \"electric\": False,\n",
    "    \"year\": \"1996\",\n",
    "    \"colors\": ['red','white','blue','black']\n",
    "}\n",
    "print(mydict) #it will be showing model name \"7X\" instead of \"M5 CS\""
   ]
  },
  {
   "cell_type": "code",
   "execution_count": null,
   "id": "c504427d",
   "metadata": {},
   "outputs": [
    {
     "name": "stdout",
     "output_type": "stream",
     "text": [
      "M5 CS\n",
      "M5 CS\n"
     ]
    }
   ],
   "source": [
    "#Accessing items\n",
    "mydict = {\n",
    "    \"brand\": \"BMW\",\n",
    "    \"model\": \"M5 CS\",\n",
    "    \"year\": 1996,\n",
    "    \"colors\": ['red','white','blue','black']\n",
    "}\n",
    "x = mydict[\"model\"]\n",
    "print(x)\n",
    "\n",
    "# there is also a method callded get() that will give you the same result\n",
    "y =mydict.get(\"model\")\n",
    "print(y) "
   ]
  },
  {
   "cell_type": "code",
   "execution_count": null,
   "id": "4218ad30",
   "metadata": {},
   "outputs": [
    {
     "name": "stdout",
     "output_type": "stream",
     "text": [
      "dict_keys(['brand', 'model', 'year', 'colors'])\n",
      "dict_keys(['brand', 'model', 'year', 'colors', 'country'])\n"
     ]
    }
   ],
   "source": [
    "# The keys() method will return a list of all the keys in the dictiomycary\n",
    "mycar= {\n",
    "    \"brand\": \"BMW\",\n",
    "    \"model\": \"M5 CS\",\n",
    "    \"ymycar\": 1996,\n",
    "    \"colors\": ['red','white','blue','black']\n",
    "}\n",
    "x = mycar.keys()\n",
    "print(x) #before the change \n",
    "mycar[\"country\"] = \"Germany\"\n",
    "print(x) #after the change"
   ]
  },
  {
   "cell_type": "code",
   "execution_count": 4,
   "id": "79c817fb",
   "metadata": {},
   "outputs": [
    {
     "name": "stdout",
     "output_type": "stream",
     "text": [
      "dict_values(['BMW', 'M5 CS', 1996, ['red', 'white', 'blue', 'black']])\n",
      "dict_values(['BMW', 'M5 CS', 1996, ['red', 'white', 'blue', 'black'], 'petrol'])\n"
     ]
    }
   ],
   "source": [
    "# The values() method will return a list of all the values in the dictionary\n",
    "mycar = {\n",
    "    \"brand\": \"BMW\",\n",
    "    \"model\": \"M5 CS\",\n",
    "    \"year\": 1996,\n",
    "    \"colors\": ['red','white','blue','black']\n",
    "}\n",
    "x = mycar.values()\n",
    "print(x) #before the change\n",
    "mycar[\"engine\"] = \"petrol\"\n",
    "print(x) #after the change"
   ]
  },
  {
   "cell_type": "code",
   "execution_count": 1,
   "id": "b269a143",
   "metadata": {},
   "outputs": [
    {
     "name": "stdout",
     "output_type": "stream",
     "text": [
      "yes\n"
     ]
    }
   ],
   "source": [
    "# To determine if a specified key is present in a dictionary use the in keyord\n",
    "mycar = {\n",
    "    \"brand\": \"BMW\",\n",
    "    \"model\": \"M5 CS\",\n",
    "    \"year\": 1996,\n",
    "    \"colors\": ['red','white','blue','black']\n",
    "}\n",
    "if \"model\" in mycar:\n",
    "    print(\"yes\")"
   ]
  },
  {
   "cell_type": "code",
   "execution_count": 3,
   "id": "23ae74b4",
   "metadata": {},
   "outputs": [
    {
     "name": "stdout",
     "output_type": "stream",
     "text": [
      "{'brand': 'BMW', 'model': 'M5 CS', 'year': 1996, 'colors': ['red', 'white', 'blue', 'black'], 'country': 'Germany'}\n",
      "{'brand': 'BMW', 'model': 'M5 CS', 'year': 1996, 'colors': ['red', 'white', 'blue', 'black'], 'engine': 'petrol'}\n"
     ]
    }
   ],
   "source": [
    "# Adding dictionary items\n",
    "mycar = {\n",
    "    \"brand\": \"BMW\",\n",
    "    \"model\": \"M5 CS\",\n",
    "    \"year\": 1996,\n",
    "    \"colors\": ['red','white','blue','black']\n",
    "}\n",
    "mycar[\"country\"]= \"Germany\"\n",
    "print(mycar)\n",
    "\n",
    "#Update the dictionary using by update() method\n",
    "mycar = {\n",
    "    \"brand\": \"BMW\",\n",
    "    \"model\": \"M5 CS\",\n",
    "    \"year\": 1996,\n",
    "    \"colors\": ['red','white','blue','black']\n",
    "}\n",
    "mycar.update({\"engine\":\"petrol\"})\n",
    "print(mycar)"
   ]
  },
  {
   "cell_type": "code",
   "execution_count": 5,
   "id": "b478a98a",
   "metadata": {},
   "outputs": [
    {
     "name": "stdout",
     "output_type": "stream",
     "text": [
      "{'brand': 'BMW', 'model': 'M5 CS', 'colors': ['red', 'white', 'blue', 'black']}\n",
      "{'brand': 'BMW', 'model': 'M5 CS'}\n"
     ]
    }
   ],
   "source": [
    "#Removing items from the dictionary\n",
    "mycar = {\n",
    "    \"brand\": \"BMW\",\n",
    "    \"model\": \"M5 CS\",\n",
    "    \"year\": 1996,\n",
    "    \"colors\": ['red','white','blue','black']\n",
    "}\n",
    "mycar.pop(\"year\") # pop the model using pop() medthod\n",
    "print(mycar) \n",
    "\n",
    "mycar.popitem() # The popitem() remove the last item of this dictionary\n",
    "print(mycar)"
   ]
  },
  {
   "cell_type": "code",
   "execution_count": 6,
   "id": "26c7bcb2",
   "metadata": {},
   "outputs": [
    {
     "name": "stdout",
     "output_type": "stream",
     "text": [
      "{'brand': 'BMW', 'model': 'M5 CS', 'year': 1996, 'colors': ['red', 'white', 'blue', 'black']}\n",
      "{'brand': 'BMW', 'model': 'M5 CS', 'year': 1996, 'colors': ['red', 'white', 'blue', 'black']}\n"
     ]
    }
   ],
   "source": [
    "#Copy a dictionary\n",
    "mycar = {\n",
    "    \"brand\": \"BMW\",\n",
    "    \"model\": \"M5 CS\",\n",
    "    \"year\": 1996,\n",
    "    \"colors\": ['red','white','blue','black']\n",
    "}\n",
    "mycar2 = mycar.copy() #Make a copy of a dictionary with the copy() method\n",
    "print(mycar2)\n",
    "\n",
    "mycar3 = dict(mycar)\n",
    "print(mycar)\n"
   ]
  },
  {
   "cell_type": "code",
   "execution_count": 8,
   "id": "c5a6a8e8",
   "metadata": {},
   "outputs": [
    {
     "name": "stdout",
     "output_type": "stream",
     "text": [
      "{'child1': {'name': 'Emil', 'year': 2004}, 'child2': {'name': 'Tobias', 'year': 2007}, 'child3': {'name': 'Linus', 'year': 2011}}\n"
     ]
    }
   ],
   "source": [
    "#Nested dictionaries\n",
    "myfamily = {\n",
    "  \"child1\" : {\n",
    "    \"name\" : \"Emil\",\n",
    "    \"year\" : 2004\n",
    "  },\n",
    "  \"child2\" : {\n",
    "    \"name\" : \"Tobias\",\n",
    "    \"year\" : 2007\n",
    "  },\n",
    "  \"child3\" : {\n",
    "    \"name\" : \"Linus\",\n",
    "    \"year\" : 2011\n",
    "  }\n",
    "}\n",
    "print(myfamily)"
   ]
  },
  {
   "cell_type": "code",
   "execution_count": 9,
   "id": "ee35fab2",
   "metadata": {},
   "outputs": [
    {
     "name": "stdout",
     "output_type": "stream",
     "text": [
      "{'child1': {'name': 'Emil', 'year': 2004}, 'child2': {'name': 'Tobias', 'year': 2007}, 'child3': {'name': 'Linus', 'year': 2011}}\n"
     ]
    }
   ],
   "source": [
    "child1 = {\n",
    "  \"name\" : \"Emil\",\n",
    "  \"year\" : 2004\n",
    "}\n",
    "child2 = {\n",
    "  \"name\" : \"Tobias\",\n",
    "  \"year\" : 2007\n",
    "}\n",
    "child3 = {\n",
    "  \"name\" : \"Linus\",\n",
    "  \"year\" : 2011\n",
    "}\n",
    "\n",
    "myfamily2 = {\n",
    "  \"child1\" : child1,\n",
    "  \"child2\" : child2,\n",
    "  \"child3\" : child3\n",
    "}\n",
    "print(myfamily2)"
   ]
  }
 ],
 "metadata": {
  "kernelspec": {
   "display_name": "Python 3",
   "language": "python",
   "name": "python3"
  },
  "language_info": {
   "codemirror_mode": {
    "name": "ipython",
    "version": 3
   },
   "file_extension": ".py",
   "mimetype": "text/x-python",
   "name": "python",
   "nbconvert_exporter": "python",
   "pygments_lexer": "ipython3",
   "version": "3.12.10"
  }
 },
 "nbformat": 4,
 "nbformat_minor": 5
}
