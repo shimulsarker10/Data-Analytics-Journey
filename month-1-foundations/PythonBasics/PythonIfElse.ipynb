{
 "cells": [
  {
   "cell_type": "markdown",
   "id": "0994780b",
   "metadata": {},
   "source": [
    "### Python if,else\n",
    "# Python supports the usual logical conditions from mathematics:\n",
    "\n",
    "Equals: a == b\n",
    "Not Equals: a != b\n",
    "Less than: a < b\n",
    "Less than or equal to: a <= b\n",
    "Greater than: a > b\n",
    "Greater than or equal to: a >= b\n",
    "\n",
    "These conditions can be used in several ways, most commonly in \"if statements\" and loops.\n",
    "\n",
    "An \"if statement\" is written by using the if keyword."
   ]
  }
 ],
 "metadata": {
  "language_info": {
   "name": "python"
  }
 },
 "nbformat": 4,
 "nbformat_minor": 5
}
