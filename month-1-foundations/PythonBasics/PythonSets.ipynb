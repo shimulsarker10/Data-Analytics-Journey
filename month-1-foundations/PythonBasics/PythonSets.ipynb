{
 "cells": [
  {
   "cell_type": "code",
   "execution_count": 4,
   "id": "25770842",
   "metadata": {},
   "outputs": [
    {
     "name": "stdout",
     "output_type": "stream",
     "text": [
      "{'saikat', 'tanvir', 'bandhan', 'shimul', 'alock'}\n",
      "{50, 20, 40, 10, 30}\n",
      "{True, 2, 'cherry', 'apple', 'banana'}\n",
      "{False, True, 'cherry', 'apple', 'banana'}\n"
     ]
    }
   ],
   "source": [
    "#Pyhton Sets\n",
    "#A set is a collection which is unordered, unchangeable, and unindexed.\n",
    "myset = {'shimul','tanvir','saikat','bandhan','alock'}\n",
    "print(myset)\n",
    "\n",
    "#And set items do not allow duplicate values\n",
    "myset = {10,20,30,40,50,10,50}\n",
    "print(myset)\n",
    "\n",
    "#True and 1 is considered the same value\n",
    "thisset = {\"apple\", \"banana\", \"cherry\", True, 1, 2}\n",
    "print(thisset)\n",
    "\n",
    "#False and 0 is considered the same value\n",
    "thisset ={\"apple\", \"banana\", \"cherry\", True,False,0}\n",
    "print(thisset)"
   ]
  },
  {
   "cell_type": "code",
   "execution_count": 1,
   "id": "4ebe821c",
   "metadata": {},
   "outputs": [
    {
     "name": "stdout",
     "output_type": "stream",
     "text": [
      "5\n"
     ]
    }
   ],
   "source": [
    "#T0 determine how many items a set has, use the len() function\n",
    "myset = {'shimul','tanvir','saikat','bandhan','alock'}\n",
    "print(len(myset))"
   ]
  },
  {
   "cell_type": "code",
   "execution_count": 2,
   "id": "85881d11",
   "metadata": {},
   "outputs": [
    {
     "name": "stdout",
     "output_type": "stream",
     "text": [
      "{'shimul', 'saikat', 'alock', 'tanvir', 'bandhan'}\n",
      "{1, 2, 3, 4, 5, 6, 7, 8}\n",
      "{False, True}\n",
      "{9, 'shimul', 21, True}\n"
     ]
    }
   ],
   "source": [
    "# Set items data types\n",
    "myset1 = {'shimul','tanvir','saikat','bandhan','alock'}\n",
    "myset2 = {1,2,3,4,5,6,7,8}\n",
    "myset3 = {True,False,True,False}\n",
    "print(myset1)\n",
    "print(myset2)\n",
    "print(myset3)\n",
    "\n",
    "# Set can contain different data types\n",
    "myset = {'shimul',9,True,21}\n",
    "print(myset)"
   ]
  },
  {
   "cell_type": "code",
   "execution_count": 1,
   "id": "caec04ca",
   "metadata": {},
   "outputs": [
    {
     "name": "stdout",
     "output_type": "stream",
     "text": [
      "bandhan\n",
      "tanvir\n",
      "saikat\n",
      "shimul\n",
      "alock\n"
     ]
    }
   ],
   "source": [
    "# Access items from set by using for loop and in keyword\n",
    "myset = {'shimul','tanvir','saikat','bandhan','alock'}\n",
    "for x in myset:\n",
    "    print(x)"
   ]
  },
  {
   "cell_type": "code",
   "execution_count": 7,
   "id": "242f373d",
   "metadata": {},
   "outputs": [
    {
     "name": "stdout",
     "output_type": "stream",
     "text": [
      "True\n",
      "False\n"
     ]
    }
   ],
   "source": [
    "# Check if 'shimul' is present in the set\n",
    "myset = {'shimul','tanvir','saikat','bandhan','alock'}\n",
    "print('shimul' in myset)\n",
    "\n",
    "# check if 'shimul' is not present in the set\n",
    "print('shimul' not in myset)"
   ]
  },
  {
   "cell_type": "code",
   "execution_count": 9,
   "id": "770dba40",
   "metadata": {},
   "outputs": [
    {
     "name": "stdout",
     "output_type": "stream",
     "text": [
      "{'bandhan', 'tanvir', 'anoy', 'saikat', 'shimul', 'alock'}\n"
     ]
    }
   ],
   "source": [
    "\"\"\"\n",
    "Once a set is created, you cannot change its items, \n",
    "but you can add new items by using add() method\n",
    "\"\"\"\n",
    "myset = {'shimul','tanvir','saikat','bandhan','alock'}\n",
    "myset.add(\"anoy\")\n",
    "print(myset)"
   ]
  },
  {
   "cell_type": "code",
   "execution_count": 10,
   "id": "db06c558",
   "metadata": {},
   "outputs": [
    {
     "name": "stdout",
     "output_type": "stream",
     "text": [
      "{1, 'bandhan', 2, 3, 4, 5, 6, 'saikat', 'shimul', 'alock', 'tanvir'}\n"
     ]
    }
   ],
   "source": [
    "# To add items from another set into the current set,use the update() method.\n",
    "myset1 = {'shimul','tanvir','saikat','bandhan','alock'}\n",
    "myset2 = {1,2,3,4,5,6}\n",
    "myset1.update(myset2)\n",
    "print(myset1)"
   ]
  },
  {
   "cell_type": "code",
   "execution_count": null,
   "id": "be77348c",
   "metadata": {},
   "outputs": [
    {
     "name": "stdout",
     "output_type": "stream",
     "text": [
      "{'bandhan', 'saikat', 'alock'}\n"
     ]
    }
   ],
   "source": [
    "# To remove an item in a set, use the remove(),or the discard()method\n",
    "myset = {'shimul','tanvir','saikat','bandhan','alock'}\n",
    "myset.remove('shimul') #Remove 'shimul' by using remove() method\n",
    "myset.discard('tanvir') #Remove 'tanvir' by using dicard() method\n",
    "print(myset)"
   ]
  },
  {
   "cell_type": "code",
   "execution_count": 14,
   "id": "c1307aa6",
   "metadata": {},
   "outputs": [
    {
     "name": "stdout",
     "output_type": "stream",
     "text": [
      "set()\n"
     ]
    }
   ],
   "source": [
    "#the clear() method empties the set\n",
    "myset = {'shimul','tanvir','saikat','bandhan','alock'}\n",
    "myset.clear() \n",
    "print(myset)"
   ]
  },
  {
   "cell_type": "code",
   "execution_count": null,
   "id": "cdcb6498",
   "metadata": {},
   "outputs": [
    {
     "name": "stdout",
     "output_type": "stream",
     "text": [
      "{1, 'bandhan', 2, 3, 4, 5, 'saikat', 'shimul', 'alock', 'b', 'a', 'c', 'd', 'tanvir'}\n",
      "{1, 2, 3, 'Elena', 'bananas', 'apple', 'John', 'b', 'a', 'c', 'cherry'}\n",
      "{'apple'}\n",
      "{'apple'}\n",
      "{'banana', 'cherry'}\n",
      "{'banana', 'cherry'}\n",
      "{'google', 'cherry', 'banana', 'microsoft'}\n",
      "{'google', 'cherry', 'banana', 'microsoft'}\n"
     ]
    }
   ],
   "source": [
    "\"\"\"Join Sets:\n",
    "There are several ways to join two or more sets in Python.\n",
    "The union() and update() methods joins all items from both sets.\n",
    "The intersection() method keeps ONLY the duplicates.\n",
    "The difference() method keeps the items from the first set that are not in the other set(s).\n",
    "The symmetric_difference() method keeps all items EXCEPT the duplicates.\n",
    "\"\"\"\n",
    "#Join two or multiple sets using by union()\n",
    "myset1 = {'shimul','tanvir','saikat','bandhan','alock'}\n",
    "myset2 = {1,2,3,4,5}\n",
    "myset3 = {'a','b','c','d'}\n",
    "myset4 = myset1.union(myset2,myset3) \n",
    "print(myset4)\n",
    "\n",
    "# use '|' to Join two or multiple sets\n",
    "set1 = {\"a\", \"b\", \"c\"}\n",
    "set2 = {1, 2, 3}\n",
    "set3 = {\"John\", \"Elena\"}\n",
    "set4 = {\"apple\", \"bananas\", \"cherry\"}\n",
    "myset = set1 | set2 | set3 |set4\n",
    "print(myset)\n",
    "\n",
    "#The intersection() method will return a new set, that only contains the items that are present in both sets.\n",
    "set1 = {\"apple\", \"banana\", \"cherry\"}\n",
    "set2 = {\"google\", \"microsoft\", \"apple\"}\n",
    "set3 = set1.intersection(set2)\n",
    "print(set3)\n",
    "\n",
    "#Use & to intersection two sets\n",
    "set1 = {\"apple\", \"banana\", \"cherry\"}\n",
    "set2 = {\"google\", \"microsoft\", \"apple\"}\n",
    "set3 = set1 & set2\n",
    "print(set3)\n",
    "\n",
    "#The difference() method will return a new set that will contain only the items from the first set that are not present in the other set.\n",
    "set1 = {\"apple\", \"banana\", \"cherry\"}\n",
    "set2 = {\"google\", \"microsoft\", \"apple\"}\n",
    "set3 = set1.difference(set2)\n",
    "print(set3)\n",
    "\n",
    "#Use - to difference two sets\n",
    "set1 = {\"apple\", \"banana\", \"cherry\"}\n",
    "set2 = {\"google\", \"microsoft\", \"apple\"}\n",
    "set3 = set1 - set2\n",
    "print(set3)\n",
    "\n",
    "#The symmetric_difference() method will keep only the elements that are NOT present in both sets\n",
    "set1 = {\"apple\", \"banana\", \"cherry\"}\n",
    "set2 = {\"google\", \"microsoft\", \"apple\"}\n",
    "set3 = set1.symmetric_difference(set2)\n",
    "print(set3)\n",
    "\n",
    "#Use ^ to symmetric_difference two sets\n",
    "set1 = {\"apple\", \"banana\", \"cherry\"}\n",
    "set2 = {\"google\", \"microsoft\", \"apple\"}\n",
    "set3 = set1 ^ set2\n",
    "print(set3)"
   ]
  }
 ],
 "metadata": {
  "kernelspec": {
   "display_name": "Python 3",
   "language": "python",
   "name": "python3"
  },
  "language_info": {
   "codemirror_mode": {
    "name": "ipython",
    "version": 3
   },
   "file_extension": ".py",
   "mimetype": "text/x-python",
   "name": "python",
   "nbconvert_exporter": "python",
   "pygments_lexer": "ipython3",
   "version": "3.12.10"
  }
 },
 "nbformat": 4,
 "nbformat_minor": 5
}
