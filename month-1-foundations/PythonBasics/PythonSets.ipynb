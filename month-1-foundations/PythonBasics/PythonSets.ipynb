{
 "cells": [
  {
   "cell_type": "code",
   "execution_count": 4,
   "id": "25770842",
   "metadata": {},
   "outputs": [
    {
     "name": "stdout",
     "output_type": "stream",
     "text": [
      "{'saikat', 'tanvir', 'bandhan', 'shimul', 'alock'}\n",
      "{50, 20, 40, 10, 30}\n",
      "{True, 2, 'cherry', 'apple', 'banana'}\n",
      "{False, True, 'cherry', 'apple', 'banana'}\n"
     ]
    }
   ],
   "source": [
    "#Pyhton Sets\n",
    "#A set is a collection which is unordered, unchangeable, and unindexed.\n",
    "myset = {'shimul','tanvir','saikat','bandhan','alock'}\n",
    "print(myset)\n",
    "\n",
    "#And set items do not allow duplicate values\n",
    "myset = {10,20,30,40,50,10,50}\n",
    "print(myset)\n",
    "\n",
    "#True and 1 is considered the same value\n",
    "thisset = {\"apple\", \"banana\", \"cherry\", True, 1, 2}\n",
    "print(thisset)\n",
    "\n",
    "#False and 0 is considered the same value\n",
    "thisset ={\"apple\", \"banana\", \"cherry\", True,False,0}\n",
    "print(thisset)"
   ]
  },
  {
   "cell_type": "code",
   "execution_count": 1,
   "id": "4ebe821c",
   "metadata": {},
   "outputs": [
    {
     "name": "stdout",
     "output_type": "stream",
     "text": [
      "5\n"
     ]
    }
   ],
   "source": [
    "#T0 determine how many items a set has, use the len() function\n",
    "myset = {'shimul','tanvir','saikat','bandhan','alock'}\n",
    "print(len(myset))"
   ]
  },
  {
   "cell_type": "code",
   "execution_count": 2,
   "id": "85881d11",
   "metadata": {},
   "outputs": [
    {
     "name": "stdout",
     "output_type": "stream",
     "text": [
      "{'shimul', 'saikat', 'alock', 'tanvir', 'bandhan'}\n",
      "{1, 2, 3, 4, 5, 6, 7, 8}\n",
      "{False, True}\n",
      "{9, 'shimul', 21, True}\n"
     ]
    }
   ],
   "source": [
    "# Set items data types\n",
    "myset1 = {'shimul','tanvir','saikat','bandhan','alock'}\n",
    "myset2 = {1,2,3,4,5,6,7,8}\n",
    "myset3 = {True,False,True,False}\n",
    "print(myset1)\n",
    "print(myset2)\n",
    "print(myset3)\n",
    "\n",
    "# Set can contain different data types\n",
    "myset = {'shimul',9,True,21}\n",
    "print(myset)"
   ]
  }
 ],
 "metadata": {
  "kernelspec": {
   "display_name": "Python 3",
   "language": "python",
   "name": "python3"
  },
  "language_info": {
   "codemirror_mode": {
    "name": "ipython",
    "version": 3
   },
   "file_extension": ".py",
   "mimetype": "text/x-python",
   "name": "python",
   "nbconvert_exporter": "python",
   "pygments_lexer": "ipython3",
   "version": "3.12.10"
  }
 },
 "nbformat": 4,
 "nbformat_minor": 5
}
