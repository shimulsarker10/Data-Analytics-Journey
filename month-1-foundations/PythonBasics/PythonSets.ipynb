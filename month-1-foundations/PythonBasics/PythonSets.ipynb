{
 "cells": [
  {
   "cell_type": "code",
   "execution_count": 4,
   "id": "25770842",
   "metadata": {},
   "outputs": [
    {
     "name": "stdout",
     "output_type": "stream",
     "text": [
      "{'saikat', 'tanvir', 'bandhan', 'shimul', 'alock'}\n",
      "{50, 20, 40, 10, 30}\n",
      "{True, 2, 'cherry', 'apple', 'banana'}\n",
      "{False, True, 'cherry', 'apple', 'banana'}\n"
     ]
    }
   ],
   "source": [
    "#Pyhton Sets\n",
    "#A set is a collection which is unordered, unchangeable, and unindexed.\n",
    "myset = {'shimul','tanvir','saikat','bandhan','alock'}\n",
    "print(myset)\n",
    "\n",
    "#And set items do not allow duplicate values\n",
    "myset = {10,20,30,40,50,10,50}\n",
    "print(myset)\n",
    "\n",
    "#True and 1 is considered the same value\n",
    "thisset = {\"apple\", \"banana\", \"cherry\", True, 1, 2}\n",
    "print(thisset)\n",
    "\n",
    "#False and 0 is considered the same value\n",
    "thisset ={\"apple\", \"banana\", \"cherry\", True,False,0}\n",
    "print(thisset)"
   ]
  },
  {
   "cell_type": "code",
   "execution_count": 1,
   "id": "4ebe821c",
   "metadata": {},
   "outputs": [
    {
     "name": "stdout",
     "output_type": "stream",
     "text": [
      "5\n"
     ]
    }
   ],
   "source": [
    "#T0 determine how many items a set has, use the len() function\n",
    "myset = {'shimul','tanvir','saikat','bandhan','alock'}\n",
    "print(len(myset))"
   ]
  },
  {
   "cell_type": "code",
   "execution_count": 2,
   "id": "85881d11",
   "metadata": {},
   "outputs": [
    {
     "name": "stdout",
     "output_type": "stream",
     "text": [
      "{'shimul', 'saikat', 'alock', 'tanvir', 'bandhan'}\n",
      "{1, 2, 3, 4, 5, 6, 7, 8}\n",
      "{False, True}\n",
      "{9, 'shimul', 21, True}\n"
     ]
    }
   ],
   "source": [
    "# Set items data types\n",
    "myset1 = {'shimul','tanvir','saikat','bandhan','alock'}\n",
    "myset2 = {1,2,3,4,5,6,7,8}\n",
    "myset3 = {True,False,True,False}\n",
    "print(myset1)\n",
    "print(myset2)\n",
    "print(myset3)\n",
    "\n",
    "# Set can contain different data types\n",
    "myset = {'shimul',9,True,21}\n",
    "print(myset)"
   ]
  },
  {
   "cell_type": "code",
   "execution_count": 1,
   "id": "caec04ca",
   "metadata": {},
   "outputs": [
    {
     "name": "stdout",
     "output_type": "stream",
     "text": [
      "bandhan\n",
      "tanvir\n",
      "saikat\n",
      "shimul\n",
      "alock\n"
     ]
    }
   ],
   "source": [
    "# Access items from set by using for loop and in keyword\n",
    "myset = {'shimul','tanvir','saikat','bandhan','alock'}\n",
    "for x in myset:\n",
    "    print(x)"
   ]
  },
  {
   "cell_type": "code",
   "execution_count": 7,
   "id": "242f373d",
   "metadata": {},
   "outputs": [
    {
     "name": "stdout",
     "output_type": "stream",
     "text": [
      "True\n",
      "False\n"
     ]
    }
   ],
   "source": [
    "# Check if 'shimul' is present in the set\n",
    "myset = {'shimul','tanvir','saikat','bandhan','alock'}\n",
    "print('shimul' in myset)\n",
    "\n",
    "# check if 'shimul' is not present in the set\n",
    "print('shimul' not in myset)"
   ]
  },
  {
   "cell_type": "code",
   "execution_count": 9,
   "id": "770dba40",
   "metadata": {},
   "outputs": [
    {
     "name": "stdout",
     "output_type": "stream",
     "text": [
      "{'bandhan', 'tanvir', 'anoy', 'saikat', 'shimul', 'alock'}\n"
     ]
    }
   ],
   "source": [
    "\"\"\"\n",
    "Once a set is created, you cannot change its items, \n",
    "but you can add new items by using add() method\n",
    "\"\"\"\n",
    "myset = {'shimul','tanvir','saikat','bandhan','alock'}\n",
    "myset.add(\"anoy\")\n",
    "print(myset)"
   ]
  },
  {
   "cell_type": "code",
   "execution_count": 10,
   "id": "db06c558",
   "metadata": {},
   "outputs": [
    {
     "name": "stdout",
     "output_type": "stream",
     "text": [
      "{1, 'bandhan', 2, 3, 4, 5, 6, 'saikat', 'shimul', 'alock', 'tanvir'}\n"
     ]
    }
   ],
   "source": [
    "# To add items from another set into the current set,use the update() method.\n",
    "myset1 = {'shimul','tanvir','saikat','bandhan','alock'}\n",
    "myset2 = {1,2,3,4,5,6}\n",
    "myset1.update(myset2)\n",
    "print(myset1)"
   ]
  }
 ],
 "metadata": {
  "kernelspec": {
   "display_name": "Python 3",
   "language": "python",
   "name": "python3"
  },
  "language_info": {
   "codemirror_mode": {
    "name": "ipython",
    "version": 3
   },
   "file_extension": ".py",
   "mimetype": "text/x-python",
   "name": "python",
   "nbconvert_exporter": "python",
   "pygments_lexer": "ipython3",
   "version": "3.12.10"
  }
 },
 "nbformat": 4,
 "nbformat_minor": 5
}
