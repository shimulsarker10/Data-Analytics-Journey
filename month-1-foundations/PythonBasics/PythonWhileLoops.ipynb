{
  "nbformat": 4,
  "nbformat_minor": 0,
  "metadata": {
    "colab": {
      "provenance": [],
      "authorship_tag": "ABX9TyOI0WPQZxwPwj8Lfqipq+Z/",
      "include_colab_link": true
    },
    "kernelspec": {
      "name": "python3",
      "display_name": "Python 3"
    },
    "language_info": {
      "name": "python"
    }
  },
  "cells": [
    {
      "cell_type": "markdown",
      "metadata": {
        "id": "view-in-github",
        "colab_type": "text"
      },
      "source": [
        "<a href=\"https://colab.research.google.com/github/shimulsarker10/Data-Analytics-Journey/blob/main/month-1-foundations/PythonBasics/PythonWhileLoops.ipynb\" target=\"_parent\"><img src=\"https://colab.research.google.com/assets/colab-badge.svg\" alt=\"Open In Colab\"/></a>"
      ]
    },
    {
      "cell_type": "code",
      "source": [
        "# whit the while loop we can execute a set of statements as long as a condtion is true\n",
        "i = 1\n",
        "while i<6:\n",
        "  print(\"hello world\")\n",
        "  i +=1"
      ],
      "metadata": {
        "colab": {
          "base_uri": "https://localhost:8080/"
        },
        "id": "q7edpVHawyYq",
        "outputId": "a357df17-6112-4bcd-f40d-e8b00c2d7452"
      },
      "execution_count": null,
      "outputs": [
        {
          "output_type": "stream",
          "name": "stdout",
          "text": [
            "hello world\n",
            "hello world\n",
            "hello world\n",
            "hello world\n",
            "hello world\n"
          ]
        }
      ]
    },
    {
      "cell_type": "code",
      "source": [
        "# Break statement, we can stop the loop even if the while condition is true\n",
        "i = 1\n",
        "while i < 5:\n",
        "  print(\"Apuu\")\n",
        "  if i ==2:\n",
        "    break\n",
        "  i+=1"
      ],
      "metadata": {
        "colab": {
          "base_uri": "https://localhost:8080/"
        },
        "id": "t8p1kFIVTKPJ",
        "outputId": "026a5276-11cf-4c56-bc69-6304573c1ff3"
      },
      "execution_count": 3,
      "outputs": [
        {
          "output_type": "stream",
          "name": "stdout",
          "text": [
            "Apuu\n",
            "Apuu\n"
          ]
        }
      ]
    },
    {
      "cell_type": "code",
      "source": [
        "# Continue statement, we can stop the current iteration,and continue with the next\n",
        "i = 1\n",
        "while i<5:\n",
        "  i +=1\n",
        "  if i == 3:\n",
        "    continue\n",
        "  print(\"Apuuu\")"
      ],
      "metadata": {
        "colab": {
          "base_uri": "https://localhost:8080/"
        },
        "id": "ZSjbq7ePTyqJ",
        "outputId": "7d2de37e-8453-484e-f2f7-363825389806"
      },
      "execution_count": 7,
      "outputs": [
        {
          "output_type": "stream",
          "name": "stdout",
          "text": [
            "Apuuu\n",
            "Apuuu\n",
            "Apuuu\n"
          ]
        }
      ]
    }
  ]
}