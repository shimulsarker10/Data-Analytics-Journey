{
  "nbformat": 4,
  "nbformat_minor": 0,
  "metadata": {
    "colab": {
      "provenance": [],
      "authorship_tag": "ABX9TyN7FkMuWZuQpfUGHkraRAVY",
      "include_colab_link": true
    },
    "kernelspec": {
      "name": "python3",
      "display_name": "Python 3"
    },
    "language_info": {
      "name": "python"
    }
  },
  "cells": [
    {
      "cell_type": "markdown",
      "metadata": {
        "id": "view-in-github",
        "colab_type": "text"
      },
      "source": [
        "<a href=\"https://colab.research.google.com/github/shimulsarker10/Data-Analytics-Journey/blob/main/month-1-foundations/PythonBasics/PythonForLoops.ipynb\" target=\"_parent\"><img src=\"https://colab.research.google.com/assets/colab-badge.svg\" alt=\"Open In Colab\"/></a>"
      ]
    },
    {
      "cell_type": "code",
      "execution_count": null,
      "metadata": {
        "id": "Ql-DiPobaKbU",
        "colab": {
          "base_uri": "https://localhost:8080/"
        },
        "outputId": "9ebb4c7e-3fb4-42f6-e547-c65286a83b4c"
      },
      "outputs": [
        {
          "output_type": "stream",
          "name": "stdout",
          "text": [
            "shimul\n",
            "tanvir\n",
            "saikat\n",
            "alock\n"
          ]
        }
      ],
      "source": [
        "#Python For Loops\n",
        "people = ['shimul','tanvir','saikat','alock']\n",
        "for x in people:\n",
        "    print(x)"
      ]
    },
    {
      "cell_type": "code",
      "source": [
        "people = ['shimul','tanvir','saikat','alock']\n",
        "for x in people:\n",
        "    print(x)\n",
        "    if x == 'saikat':\n",
        "        break"
      ],
      "metadata": {
        "colab": {
          "base_uri": "https://localhost:8080/"
        },
        "id": "wtQFOriDdiyR",
        "outputId": "d60a9dc6-639e-4ff2-8221-a8a423bf7e47"
      },
      "execution_count": null,
      "outputs": [
        {
          "output_type": "stream",
          "name": "stdout",
          "text": [
            "shimul\n",
            "tanvir\n",
            "saikat\n"
          ]
        }
      ]
    },
    {
      "cell_type": "code",
      "source": [
        "people = ['shimul','tanvir','saikat','alock']\n",
        "for x in people:\n",
        "    if x == 'saikat':\n",
        "        break\n",
        "    print(x)"
      ],
      "metadata": {
        "colab": {
          "base_uri": "https://localhost:8080/"
        },
        "id": "-cDsGn1YeHyV",
        "outputId": "96e39264-8f7d-4d37-93a8-c21554a8039a"
      },
      "execution_count": null,
      "outputs": [
        {
          "output_type": "stream",
          "name": "stdout",
          "text": [
            "shimul\n",
            "tanvir\n"
          ]
        }
      ]
    },
    {
      "cell_type": "code",
      "source": [
        "people = ['shimul','tanvir','saikat','alock']\n",
        "for x in people:\n",
        "    if x == 'saikat':\n",
        "        continue\n",
        "    print(x)"
      ],
      "metadata": {
        "colab": {
          "base_uri": "https://localhost:8080/"
        },
        "id": "zCpaxCw-ed7F",
        "outputId": "cc82e9cb-6284-4841-89bb-6d19ce2d6b5e"
      },
      "execution_count": null,
      "outputs": [
        {
          "output_type": "stream",
          "name": "stdout",
          "text": [
            "shimul\n",
            "tanvir\n",
            "alock\n"
          ]
        }
      ]
    },
    {
      "cell_type": "code",
      "source": [
        "for x in range(6):\n",
        "    print(\"Apuuu\")"
      ],
      "metadata": {
        "colab": {
          "base_uri": "https://localhost:8080/"
        },
        "id": "tZtLLWACCaKy",
        "outputId": "ce10e414-6da5-467e-b0be-dab511d0ec92"
      },
      "execution_count": null,
      "outputs": [
        {
          "output_type": "stream",
          "name": "stdout",
          "text": [
            "Apuuu\n",
            "Apuuu\n",
            "Apuuu\n",
            "Apuuu\n",
            "Apuuu\n",
            "Apuuu\n"
          ]
        }
      ]
    },
    {
      "cell_type": "code",
      "source": [
        "for char in 'Shimul':\n",
        "    print(char)"
      ],
      "metadata": {
        "colab": {
          "base_uri": "https://localhost:8080/"
        },
        "id": "wrih4yKCCotJ",
        "outputId": "e88cf3a0-45be-4455-d0e9-8c2f228c41c5"
      },
      "execution_count": null,
      "outputs": [
        {
          "output_type": "stream",
          "name": "stdout",
          "text": [
            "S\n",
            "h\n",
            "i\n",
            "m\n",
            "u\n",
            "l\n"
          ]
        }
      ]
    },
    {
      "cell_type": "code",
      "source": [
        "for x in range(2,7):\n",
        "  print(x)"
      ],
      "metadata": {
        "colab": {
          "base_uri": "https://localhost:8080/"
        },
        "id": "wEdl7ovLCxwZ",
        "outputId": "af5ec5ac-b4a7-445f-9ae2-e64afca3ac9c"
      },
      "execution_count": null,
      "outputs": [
        {
          "output_type": "stream",
          "name": "stdout",
          "text": [
            "2\n",
            "3\n",
            "4\n",
            "5\n",
            "6\n"
          ]
        }
      ]
    },
    {
      "cell_type": "code",
      "source": [
        "for x in range (2,30,3):\n",
        "  print(x)"
      ],
      "metadata": {
        "colab": {
          "base_uri": "https://localhost:8080/"
        },
        "id": "vfWI861xLiFM",
        "outputId": "ded01663-f270-4935-d7b9-17dcb59e5fe3"
      },
      "execution_count": null,
      "outputs": [
        {
          "output_type": "stream",
          "name": "stdout",
          "text": [
            "2\n",
            "5\n",
            "8\n",
            "11\n",
            "14\n",
            "17\n",
            "20\n",
            "23\n",
            "26\n",
            "29\n"
          ]
        }
      ]
    },
    {
      "cell_type": "code",
      "source": [
        "for x in range (5):\n",
        "  print(\"Apuuu\")\n",
        "else:\n",
        "  print(\"Done\")"
      ],
      "metadata": {
        "colab": {
          "base_uri": "https://localhost:8080/"
        },
        "id": "j3ihJbE6MJ7R",
        "outputId": "969b2afb-80bb-4757-c2a1-3c5c54af6855"
      },
      "execution_count": null,
      "outputs": [
        {
          "output_type": "stream",
          "name": "stdout",
          "text": [
            "Apuuu\n",
            "Apuuu\n",
            "Apuuu\n",
            "Apuuu\n",
            "Apuuu\n",
            "Done\n"
          ]
        }
      ]
    }
  ]
}