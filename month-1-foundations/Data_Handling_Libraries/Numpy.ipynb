{
  "nbformat": 4,
  "nbformat_minor": 0,
  "metadata": {
    "colab": {
      "provenance": [],
      "authorship_tag": "ABX9TyMulIkz3vN3YERp/Ix1rQqY",
      "include_colab_link": true
    },
    "kernelspec": {
      "name": "python3",
      "display_name": "Python 3"
    },
    "language_info": {
      "name": "python"
    }
  },
  "cells": [
    {
      "cell_type": "markdown",
      "metadata": {
        "id": "view-in-github",
        "colab_type": "text"
      },
      "source": [
        "<a href=\"https://colab.research.google.com/github/shimulsarker10/Data-Analytics-Journey/blob/main/month-1-foundations/Data_Handling_Libraries/Numpy.ipynb\" target=\"_parent\"><img src=\"https://colab.research.google.com/assets/colab-badge.svg\" alt=\"Open In Colab\"/></a>"
      ]
    },
    {
      "cell_type": "code",
      "execution_count": 1,
      "metadata": {
        "id": "kSm23uu8TQQa"
      },
      "outputs": [],
      "source": [
        "import numpy as np"
      ]
    },
    {
      "cell_type": "code",
      "source": [
        "# Create a Numpy Array by passing tuple\n",
        "n = np.array((1,2,3,4))\n",
        "print(n)\n",
        "print(type(n))"
      ],
      "metadata": {
        "colab": {
          "base_uri": "https://localhost:8080/"
        },
        "id": "UPj5PenmUkRP",
        "outputId": "ccf13731-3159-474f-8b3c-6956480e7d1d"
      },
      "execution_count": 2,
      "outputs": [
        {
          "output_type": "stream",
          "name": "stdout",
          "text": [
            "[1 2 3 4]\n",
            "<class 'numpy.ndarray'>\n"
          ]
        }
      ]
    },
    {
      "cell_type": "code",
      "source": [
        "# Create a Numpy Array by passing list\n",
        "x = np.array([5,6,7,8])\n",
        "print(x)\n",
        "print(type(x))"
      ],
      "metadata": {
        "colab": {
          "base_uri": "https://localhost:8080/"
        },
        "id": "uY6mwqxoW0vU",
        "outputId": "16aca787-a062-4186-e61b-b6b2d18432b2"
      },
      "execution_count": 3,
      "outputs": [
        {
          "output_type": "stream",
          "name": "stdout",
          "text": [
            "[5 6 7 8]\n",
            "<class 'numpy.ndarray'>\n"
          ]
        }
      ]
    },
    {
      "cell_type": "code",
      "source": [
        "# Dimensions in arrays\n",
        "# 0-D Array\n",
        "x = np.array(4)\n",
        "print(x)\n",
        "print(\"Dimension:\",x.ndim)"
      ],
      "metadata": {
        "colab": {
          "base_uri": "https://localhost:8080/"
        },
        "id": "y_ACcXOe4g3M",
        "outputId": "388c8736-bd79-4b51-c2e1-e954d41eaee8"
      },
      "execution_count": 4,
      "outputs": [
        {
          "output_type": "stream",
          "name": "stdout",
          "text": [
            "4\n",
            "Dimension: 0\n"
          ]
        }
      ]
    },
    {
      "cell_type": "code",
      "source": [
        "# 1-D Array\n",
        "x = np.array([1,2,3,4])\n",
        "print(x)\n",
        "print(\"Dimension:\",x.ndim)"
      ],
      "metadata": {
        "colab": {
          "base_uri": "https://localhost:8080/"
        },
        "id": "eyD3LpS47XIv",
        "outputId": "8a54ef7f-97d8-4153-baa3-d1f337120f73"
      },
      "execution_count": 5,
      "outputs": [
        {
          "output_type": "stream",
          "name": "stdout",
          "text": [
            "[1 2 3 4]\n",
            "Dimension: 1\n"
          ]
        }
      ]
    },
    {
      "cell_type": "code",
      "source": [
        "# 2-D Array\n",
        "x = np.array([[1,2,3],[4,5,6]])\n",
        "print(x)\n",
        "print(\"Dimension:\",x.ndim)"
      ],
      "metadata": {
        "colab": {
          "base_uri": "https://localhost:8080/"
        },
        "id": "KM3RhgRe7kF1",
        "outputId": "ec7e3640-ef6a-4fa4-e048-647fa09bfa39"
      },
      "execution_count": 6,
      "outputs": [
        {
          "output_type": "stream",
          "name": "stdout",
          "text": [
            "[[1 2 3]\n",
            " [4 5 6]]\n",
            "Dimension: 2\n"
          ]
        }
      ]
    },
    {
      "cell_type": "code",
      "source": [
        "# Create a 3-D array with 2-d arrays\n",
        "x=np.array([[[1,2,3],[3,4,5]],[[6,7,8],[9,10,11]]])\n",
        "print(x)\n",
        "print(\"Dimension:\",x.ndim)"
      ],
      "metadata": {
        "colab": {
          "base_uri": "https://localhost:8080/"
        },
        "id": "LmnOGbZq8Viu",
        "outputId": "79f7665f-c93b-4b87-865a-5bbf58c11530"
      },
      "execution_count": 7,
      "outputs": [
        {
          "output_type": "stream",
          "name": "stdout",
          "text": [
            "[[[ 1  2  3]\n",
            "  [ 3  4  5]]\n",
            "\n",
            " [[ 6  7  8]\n",
            "  [ 9 10 11]]]\n",
            "Dimension: 3\n"
          ]
        }
      ]
    },
    {
      "cell_type": "code",
      "source": [
        "# Initialize numpy arrays\n",
        "x = np.zeros([3,3])\n",
        "print(x)\n",
        "print(type(x))"
      ],
      "metadata": {
        "colab": {
          "base_uri": "https://localhost:8080/"
        },
        "id": "E-PzTeoT9p6W",
        "outputId": "960887bb-87ec-4343-9e9b-e8f5df3a49e6"
      },
      "execution_count": 8,
      "outputs": [
        {
          "output_type": "stream",
          "name": "stdout",
          "text": [
            "[[0. 0. 0.]\n",
            " [0. 0. 0.]\n",
            " [0. 0. 0.]]\n",
            "<class 'numpy.ndarray'>\n"
          ]
        }
      ]
    },
    {
      "cell_type": "code",
      "source": [
        "# Higher Dimensional array\n",
        "x = np.array([1,2,3,4],ndmin=5)\n",
        "print(x)\n",
        "print(\"Dimension:\",x.ndim)"
      ],
      "metadata": {
        "colab": {
          "base_uri": "https://localhost:8080/"
        },
        "id": "3MqbwpvG_Jeu",
        "outputId": "8b058899-2073-444d-e77a-9f47d0f15053"
      },
      "execution_count": 9,
      "outputs": [
        {
          "output_type": "stream",
          "name": "stdout",
          "text": [
            "[[[[[1 2 3 4]]]]]\n",
            "Dimension: 5\n"
          ]
        }
      ]
    },
    {
      "cell_type": "code",
      "source": [
        "arr = np.array([1,2,3,4,5])\n",
        "print(arr[0])\n",
        "print(arr[1])\n",
        "print(arr[2] + arr[3])"
      ],
      "metadata": {
        "colab": {
          "base_uri": "https://localhost:8080/"
        },
        "id": "9wDNAnz-Cg9n",
        "outputId": "fb659165-1e03-4554-fecf-ed4b7c3b6c8c"
      },
      "execution_count": 10,
      "outputs": [
        {
          "output_type": "stream",
          "name": "stdout",
          "text": [
            "1\n",
            "2\n",
            "7\n"
          ]
        }
      ]
    },
    {
      "cell_type": "code",
      "source": [
        "# Numpy Array Indexing\n",
        "x = np.array([1,2,3,4,5])\n",
        "for n in(range(len(x))):\n",
        "    print(x[n])"
      ],
      "metadata": {
        "colab": {
          "base_uri": "https://localhost:8080/"
        },
        "id": "WeK3D1imBkp1",
        "outputId": "6b563ffe-dec3-41eb-baff-05438105caea"
      },
      "execution_count": 11,
      "outputs": [
        {
          "output_type": "stream",
          "name": "stdout",
          "text": [
            "1\n",
            "2\n",
            "3\n",
            "4\n",
            "5\n"
          ]
        }
      ]
    },
    {
      "cell_type": "code",
      "source": [
        "# Access 2-D Array\n",
        "x = np.array([[1,2,3,4,5],[6,7,8,9,10]])\n",
        "print(x[1,2])"
      ],
      "metadata": {
        "colab": {
          "base_uri": "https://localhost:8080/"
        },
        "id": "eqAQvNyzDqZm",
        "outputId": "9cd27d1e-ce13-479b-b631-796956579ded"
      },
      "execution_count": 12,
      "outputs": [
        {
          "output_type": "stream",
          "name": "stdout",
          "text": [
            "8\n"
          ]
        }
      ]
    },
    {
      "cell_type": "code",
      "source": [
        "# access 3-d array\n",
        "x = np.array([[[11,45,23,],[35,90,50]],[[30,40,95],[10,20,30]]])\n",
        "print(x[1,1,2])"
      ],
      "metadata": {
        "colab": {
          "base_uri": "https://localhost:8080/"
        },
        "id": "97jR7b6dEZBh",
        "outputId": "880d16e6-40d3-4dcd-f344-cf3fa390696f"
      },
      "execution_count": 13,
      "outputs": [
        {
          "output_type": "stream",
          "name": "stdout",
          "text": [
            "30\n"
          ]
        }
      ]
    },
    {
      "cell_type": "code",
      "source": [
        "#numpy array slicing\n",
        "x = np.array([1,2,3,4,5,])\n",
        "print(x[1:4])"
      ],
      "metadata": {
        "colab": {
          "base_uri": "https://localhost:8080/"
        },
        "id": "vHdixQQER5-i",
        "outputId": "09f15977-15ee-4ea8-b0dc-6ea9f7b7d168"
      },
      "execution_count": 14,
      "outputs": [
        {
          "output_type": "stream",
          "name": "stdout",
          "text": [
            "[2 3 4]\n"
          ]
        }
      ]
    },
    {
      "cell_type": "code",
      "source": [
        "# Use the step value to determine the step of the slicing\n",
        "x = np.array([1,2,3,4,5,6,])\n",
        "print(x[1:5:2])"
      ],
      "metadata": {
        "colab": {
          "base_uri": "https://localhost:8080/"
        },
        "id": "WeNCKEHWTRkS",
        "outputId": "04422d86-e65e-47a2-f583-033925e29f9c"
      },
      "execution_count": 15,
      "outputs": [
        {
          "output_type": "stream",
          "name": "stdout",
          "text": [
            "[2 4]\n"
          ]
        }
      ]
    },
    {
      "cell_type": "code",
      "source": [
        "# Slicing 2D array\n",
        "n = np.array([[1,2,3,4,5],[6,7,8,9,10]])\n",
        "print(n[1,1:4])"
      ],
      "metadata": {
        "colab": {
          "base_uri": "https://localhost:8080/"
        },
        "id": "E7OZcxp9Ttds",
        "outputId": "5c31b690-1c41-419a-ed9d-512ee8f71702"
      },
      "execution_count": 16,
      "outputs": [
        {
          "output_type": "stream",
          "name": "stdout",
          "text": [
            "[7 8 9]\n"
          ]
        }
      ]
    },
    {
      "cell_type": "code",
      "source": [
        "#check the size ,shape and dtype\n",
        "x = np.array([1,2,3,4,5])\n",
        "print(x.size)\n",
        "print(x.shape)\n",
        "print(x.ndim)"
      ],
      "metadata": {
        "colab": {
          "base_uri": "https://localhost:8080/"
        },
        "id": "jFP3Zm_NV-Pz",
        "outputId": "3e7ae2c3-acf7-43c6-a07d-ad68cac57277"
      },
      "execution_count": 17,
      "outputs": [
        {
          "output_type": "stream",
          "name": "stdout",
          "text": [
            "5\n",
            "(5,)\n",
            "1\n"
          ]
        }
      ]
    },
    {
      "cell_type": "code",
      "source": [
        "#Special Array\n",
        "n=np.zeros([2,3])\n",
        "m=np.ones([3,3])\n",
        "k=np.eye(3)\n",
        "l=np.arange(0,10,2)\n",
        "r=np.linspace(0,1,5)\n",
        "print(n.size,n.shape,n.ndim)\n",
        "print(m.size,m.shape,m.ndim)\n",
        "print(k.size,k.shape,k.ndim)\n",
        "print(l.size,l.shape,l.ndim)\n",
        "print(r.size,r.shape,r.ndim)"
      ],
      "metadata": {
        "colab": {
          "base_uri": "https://localhost:8080/"
        },
        "id": "FGzMFZqlYUov",
        "outputId": "a93fcc83-667e-421e-8e4b-bbfbfccd8045"
      },
      "execution_count": 18,
      "outputs": [
        {
          "output_type": "stream",
          "name": "stdout",
          "text": [
            "6 (2, 3) 2\n",
            "9 (3, 3) 2\n",
            "9 (3, 3) 2\n",
            "5 (5,) 1\n",
            "5 (5,) 1\n"
          ]
        }
      ]
    },
    {
      "cell_type": "code",
      "source": [
        "#Array \"Reshape\"\n",
        "arr = np.array([1,2,3,4,5,6,7,8,9])\n",
        "newarr = arr.reshape(3,3)\n",
        "print(newarr)"
      ],
      "metadata": {
        "colab": {
          "base_uri": "https://localhost:8080/"
        },
        "id": "fxsgNrIcY-p6",
        "outputId": "b5a9074f-fb19-4358-dfa2-87c4f2a6c3df"
      },
      "execution_count": 19,
      "outputs": [
        {
          "output_type": "stream",
          "name": "stdout",
          "text": [
            "[[1 2 3]\n",
            " [4 5 6]\n",
            " [7 8 9]]\n"
          ]
        }
      ]
    },
    {
      "cell_type": "code",
      "source": [
        "# Vectorized Operations\n",
        "x = np.array([1,2,3,4,5])\n",
        "y = np.array([3,4,6,3,7])\n",
        "print(x+y)\n",
        "print(x-y)\n",
        "print(x*y)\n",
        "print(x/y)\n",
        "print(x%y)"
      ],
      "metadata": {
        "colab": {
          "base_uri": "https://localhost:8080/"
        },
        "id": "2VVfcSIfZmlV",
        "outputId": "0d46502c-744d-41f6-9c9a-4035809342cd"
      },
      "execution_count": 20,
      "outputs": [
        {
          "output_type": "stream",
          "name": "stdout",
          "text": [
            "[ 4  6  9  7 12]\n",
            "[-2 -2 -3  1 -2]\n",
            "[ 3  8 18 12 35]\n",
            "[0.33333333 0.5        0.5        1.33333333 0.71428571]\n",
            "[1 2 3 1 5]\n"
          ]
        }
      ]
    },
    {
      "cell_type": "code",
      "source": [
        "# Broadcasting\n",
        "arr1 = np.array([3,5,6,7])\n",
        "arr2 = np.array([4])\n",
        "print (arr1 + arr2)"
      ],
      "metadata": {
        "colab": {
          "base_uri": "https://localhost:8080/"
        },
        "id": "QDHQEBFPmVaA",
        "outputId": "f766023f-baa2-4ad4-813d-c9903987dd01"
      },
      "execution_count": 21,
      "outputs": [
        {
          "output_type": "stream",
          "name": "stdout",
          "text": [
            "[ 7  9 10 11]\n"
          ]
        }
      ]
    },
    {
      "cell_type": "code",
      "source": [
        "a = np.array([[3,7,9],[4,8,3]])\n",
        "b = np.array([5,9,2])\n",
        "print(a+b)"
      ],
      "metadata": {
        "colab": {
          "base_uri": "https://localhost:8080/"
        },
        "id": "wA5c1Btpnjc2",
        "outputId": "343de5ae-4acd-4340-8394-7a2a64583b8b"
      },
      "execution_count": 22,
      "outputs": [
        {
          "output_type": "stream",
          "name": "stdout",
          "text": [
            "[[ 8 16 11]\n",
            " [ 9 17  5]]\n"
          ]
        }
      ]
    },
    {
      "cell_type": "code",
      "source": [
        "# Useful functions\n",
        "x = np.array([45,98,300,56,45])\n",
        "print(np.max(x))\n",
        "print(np.min(x))\n",
        "print(np.sum(x))\n",
        "print(np.mean(x))\n",
        "print(np.std(x))"
      ],
      "metadata": {
        "colab": {
          "base_uri": "https://localhost:8080/"
        },
        "id": "nBynzK6fp-di",
        "outputId": "f8f371e4-0d76-4fb3-93fa-15d1adbb2f2e"
      },
      "execution_count": 23,
      "outputs": [
        {
          "output_type": "stream",
          "name": "stdout",
          "text": [
            "300\n",
            "45\n",
            "544\n",
            "108.8\n",
            "97.57335701921913\n"
          ]
        }
      ]
    },
    {
      "cell_type": "code",
      "source": [
        "a = np.array([1,2,3])\n",
        "b = np.array([4,5,6])\n",
        "c = np.array([7,8,9])\n",
        "d = np.array([4,7])\n",
        "e = np.array([5,20,11,67])\n",
        "\n",
        "result = np.concatenate((a,b,c))\n",
        "print(result)\n",
        "\n",
        "stack = np.stack((a,b,c))\n",
        "print(stack)"
      ],
      "metadata": {
        "colab": {
          "base_uri": "https://localhost:8080/"
        },
        "id": "guuQllPRrcyG",
        "outputId": "31f9042b-bd18-43b5-eb0d-51e6c0b68979"
      },
      "execution_count": 24,
      "outputs": [
        {
          "output_type": "stream",
          "name": "stdout",
          "text": [
            "[1 2 3 4 5 6 7 8 9]\n",
            "[[1 2 3]\n",
            " [4 5 6]\n",
            " [7 8 9]]\n"
          ]
        }
      ]
    },
    {
      "cell_type": "code",
      "source": [
        "# Linear Algebra\n",
        "a = np.array([[1,2],[4,5]])\n",
        "b = np.array([[5,6],[7,8]])\n",
        "\n",
        "# Matrix multiplication\n",
        "print(np.dot(a,b))\n",
        "print(a @ b) #shortcut"
      ],
      "metadata": {
        "colab": {
          "base_uri": "https://localhost:8080/"
        },
        "id": "GHd_Tw4w-Cl-",
        "outputId": "9a215603-5cd1-41c0-e74f-3c264990f3db"
      },
      "execution_count": 25,
      "outputs": [
        {
          "output_type": "stream",
          "name": "stdout",
          "text": [
            "[[19 22]\n",
            " [55 64]]\n",
            "[[19 22]\n",
            " [55 64]]\n"
          ]
        }
      ]
    },
    {
      "cell_type": "code",
      "source": [
        "# Transpose\n",
        "x = np.array([[23,98,39],[34,55,80]])\n",
        "print(x.T)"
      ],
      "metadata": {
        "colab": {
          "base_uri": "https://localhost:8080/"
        },
        "id": "lpqiASRE-4W3",
        "outputId": "a98ed073-25db-4ffd-8f08-198cc6a32551"
      },
      "execution_count": 26,
      "outputs": [
        {
          "output_type": "stream",
          "name": "stdout",
          "text": [
            "[[23 34]\n",
            " [98 55]\n",
            " [39 80]]\n"
          ]
        }
      ]
    },
    {
      "cell_type": "code",
      "source": [
        "# Determinant\n",
        "n = np.array([[1, 2], [3, 4]])\n",
        "\n",
        "print(np.linalg.det(n))"
      ],
      "metadata": {
        "colab": {
          "base_uri": "https://localhost:8080/"
        },
        "id": "TqEI4Nhu_d8d",
        "outputId": "704259fa-0bb5-44fa-ac1c-8a1b70c30b58"
      },
      "execution_count": 27,
      "outputs": [
        {
          "output_type": "stream",
          "name": "stdout",
          "text": [
            "-2.0000000000000004\n"
          ]
        }
      ]
    },
    {
      "cell_type": "code",
      "source": [
        "# Eigenvalues and Eigenvectors\n",
        "x = np.array([[1, 2], [3, 4]])\n",
        "values, vectors = np.linalg.eig(x)\n",
        "print(\"Eigenvalues:\",values)\n",
        "print(\"Eigenvectors:\",vectors)"
      ],
      "metadata": {
        "colab": {
          "base_uri": "https://localhost:8080/"
        },
        "id": "hXANijIbBcUt",
        "outputId": "c4e4370c-bcf2-4fcb-e259-e979345d8ca4"
      },
      "execution_count": 28,
      "outputs": [
        {
          "output_type": "stream",
          "name": "stdout",
          "text": [
            "Eigenvalues: [-0.37228132  5.37228132]\n",
            "Eigenvectors: [[-0.82456484 -0.41597356]\n",
            " [ 0.56576746 -0.90937671]]\n"
          ]
        }
      ]
    },
    {
      "cell_type": "code",
      "source": [
        "# Exercise\n",
        "A = np.array([[2,3],[1,4]])\n",
        "B = np.array([[5,2],[3,1]])\n",
        "\n",
        "print(\"A + B =\\n\", A + B)\n",
        "print(\"A dot B =\\n\", np.dot(A,B))\n",
        "print(\"Transpose of A =\\n\", A.T)\n",
        "print(\"Inverse of A =\\n\", np.linalg.inv(A))\n",
        "print(\"Determinant of A =\", np.linalg.det(A))"
      ],
      "metadata": {
        "colab": {
          "base_uri": "https://localhost:8080/"
        },
        "id": "w1hjaqwLB3H_",
        "outputId": "47e6752f-a95d-46a5-ec35-0c52c9e3b4e5"
      },
      "execution_count": 29,
      "outputs": [
        {
          "output_type": "stream",
          "name": "stdout",
          "text": [
            "A + B =\n",
            " [[7 5]\n",
            " [4 5]]\n",
            "A dot B =\n",
            " [[19  7]\n",
            " [17  6]]\n",
            "Transpose of A =\n",
            " [[2 1]\n",
            " [3 4]]\n",
            "Inverse of A =\n",
            " [[ 0.8 -0.6]\n",
            " [-0.2  0.4]]\n",
            "Determinant of A = 5.000000000000001\n"
          ]
        }
      ]
    }
  ]
}