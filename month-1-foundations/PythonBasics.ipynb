{
 "cells": [
  {
   "cell_type": "code",
   "execution_count": null,
   "id": "953e7549",
   "metadata": {},
   "outputs": [
    {
     "name": "stdout",
     "output_type": "stream",
     "text": [
      "Hello World\n"
     ]
    }
   ],
   "source": [
    "#The first line of every programmer's journey is often the iconic\n",
    "print(\"Hello World\")"
   ]
  },
  {
   "cell_type": "code",
   "execution_count": 8,
   "id": "c4d1c70e",
   "metadata": {},
   "outputs": [
    {
     "name": "stdout",
     "output_type": "stream",
     "text": [
      "('shimul', 'tanvir', 'saikat', 'bandhan')\n"
     ]
    }
   ],
   "source": [
    "#I have already finished it up to the 'List' so now I started from 'Tuples'\n",
    "#This is tuple and that is unchangeable that mean we can't change,add or remove items after the tuple has been created.\n",
    "mytuple = ('shimul','tanvir','saikat','bandhan')\n",
    "print(mytuple)"
   ]
  },
  {
   "cell_type": "code",
   "execution_count": 9,
   "id": "9d0ba332",
   "metadata": {},
   "outputs": [
    {
     "name": "stdout",
     "output_type": "stream",
     "text": [
      "('apple', 'banana', 'cherry', 'apple', 'cherry')\n"
     ]
    }
   ],
   "source": [
    "#tuple allow duplicates value\n",
    "mytuple =('apple', 'banana','cherry','apple','cherry')\n",
    "print(mytuple)"
   ]
  },
  {
   "cell_type": "code",
   "execution_count": 12,
   "id": "a5cd2a19",
   "metadata": {},
   "outputs": [
    {
     "name": "stdout",
     "output_type": "stream",
     "text": [
      "4\n"
     ]
    }
   ],
   "source": [
    "#Find the length of this tuple\n",
    "mytuple=('shimul','tanvir','saikat','bandhan')\n",
    "print(len(mytuple))"
   ]
  },
  {
   "cell_type": "code",
   "execution_count": 16,
   "id": "558161f4",
   "metadata": {},
   "outputs": [
    {
     "name": "stdout",
     "output_type": "stream",
     "text": [
      "('shimul', 69, 'apuu', False)\n"
     ]
    }
   ],
   "source": [
    "#A tuple can contain different data types\n",
    "mytuple=('shimul',69,'apuu',False)\n",
    "print(mytuple)"
   ]
  },
  {
   "cell_type": "code",
   "execution_count": 22,
   "id": "5842aa38",
   "metadata": {},
   "outputs": [
    {
     "name": "stdout",
     "output_type": "stream",
     "text": [
      "shimul\n",
      "alock\n",
      "('tanvir', 'saikat', 'bandhan')\n"
     ]
    }
   ],
   "source": [
    "#Access item from the specific index[and index count from 0]\n",
    "mytuple =('shimul','tanvir','saikat','bandhan','alock')\n",
    "print(mytuple[0])\n",
    "#Print the last item of this tuple \n",
    "print(mytuple[-1])\n",
    "#Returen the second,third and fourth item\n",
    "print(mytuple[1:4])"
   ]
  },
  {
   "cell_type": "code",
   "execution_count": 23,
   "id": "1d1aee41",
   "metadata": {},
   "outputs": [
    {
     "name": "stdout",
     "output_type": "stream",
     "text": [
      "yes,'bandhan' is in the friend tuple\n"
     ]
    }
   ],
   "source": [
    "#To determine if a specified item is present in a tuple use then 'in' keyword\n",
    "mytuple=('shimul','tanvir','saikat','bandhan','alock')\n",
    "if 'bandhan' in mytuple:\n",
    "    print(\"yes,'bandhan' is in the friend tuple\")"
   ]
  },
  {
   "cell_type": "code",
   "execution_count": null,
   "id": "b1dec3b4",
   "metadata": {},
   "outputs": [
    {
     "name": "stdout",
     "output_type": "stream",
     "text": [
      "('shimul', 'anoy', 'saikat', 'bandhan', 'alock')\n"
     ]
    }
   ],
   "source": [
    "# Change the value of this tuple\n",
    "mytuple = ('shimul','tanvir','saikat','bandhan','alock')\n",
    "mylist = list(mytuple)\n",
    "mylist[1] = 'anoy'\n",
    "mytuple = tuple(mylist)\n",
    "print(mytuple)"
   ]
  },
  {
   "cell_type": "code",
   "execution_count": 26,
   "id": "249da3f0",
   "metadata": {},
   "outputs": [
    {
     "name": "stdout",
     "output_type": "stream",
     "text": [
      "('shimul', 'tanvir', 'saikat', 'bandhan', 'alock', 'musa')\n"
     ]
    }
   ],
   "source": [
    "# We can add the tuple value by using 'append' method\n",
    "mytuple = ('shimul','tanvir','saikat','bandhan','alock')\n",
    "mylist = list(mytuple)\n",
    "mylist.append('musa')\n",
    "mytuple = tuple(mylist)\n",
    "print(mytuple)\n"
   ]
  },
  {
   "cell_type": "code",
   "execution_count": 27,
   "id": "4d116838",
   "metadata": {},
   "outputs": [
    {
     "name": "stdout",
     "output_type": "stream",
     "text": [
      "('tanvir', 'saikat', 'bandhan')\n"
     ]
    }
   ],
   "source": [
    "# Remove item from a tuple\n",
    "mytuple = ('shimul','tanvir','saikat','bandhan')\n",
    "mylist = list(mytuple)\n",
    "mylist.remove('shimul')\n",
    "mytuple = tuple(mylist)\n",
    "print(mytuple)"
   ]
  },
  {
   "cell_type": "code",
   "execution_count": 1,
   "id": "9ceb6169",
   "metadata": {},
   "outputs": [
    {
     "name": "stdout",
     "output_type": "stream",
     "text": [
      "shimul\n",
      "tanvir\n",
      "saikat\n",
      "bandhan\n",
      "alock\n"
     ]
    }
   ],
   "source": [
    "# Unpacking a tuple\n",
    "mytuple = ('shimul','tanvir','saikat','bandhan','alock')\n",
    "(green,yellow,red,blue,purple) = mytuple\n",
    "print(green)\n",
    "print(yellow)\n",
    "print(red)\n",
    "print(blue)\n",
    "print(purple)\n"
   ]
  },
  {
   "cell_type": "code",
   "execution_count": 2,
   "id": "340c3fb0",
   "metadata": {},
   "outputs": [
    {
     "name": "stdout",
     "output_type": "stream",
     "text": [
      "('shimul', 'tanvir', 'saikat', 'bandhan', 'alock', 'habul', 'dabul', 'kabul', 1, 2, 3, 4, 5)\n"
     ]
    }
   ],
   "source": [
    "# Join tuples \n",
    "mytuple1 = ('shimul','tanvir','saikat','bandhan','alock')\n",
    "mytuple2 = ('habul','dabul','kabul')\n",
    "mytuple3 = (1,2,3,4,5)\n",
    "\n",
    "mytuple4 = mytuple1 + mytuple2 + mytuple3\n",
    "print(mytuple4)"
   ]
  }
 ],
 "metadata": {
  "kernelspec": {
   "display_name": "Python 3",
   "language": "python",
   "name": "python3"
  },
  "language_info": {
   "codemirror_mode": {
    "name": "ipython",
    "version": 3
   },
   "file_extension": ".py",
   "mimetype": "text/x-python",
   "name": "python",
   "nbconvert_exporter": "python",
   "pygments_lexer": "ipython3",
   "version": "3.12.10"
  }
 },
 "nbformat": 4,
 "nbformat_minor": 5
}
