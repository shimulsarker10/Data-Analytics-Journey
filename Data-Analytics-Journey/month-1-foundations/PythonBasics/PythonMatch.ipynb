{
  "nbformat": 4,
  "nbformat_minor": 0,
  "metadata": {
    "colab": {
      "provenance": [],
      "authorship_tag": "ABX9TyOkvBz/N+xpcjavC2JdMKNH",
      "include_colab_link": true
    },
    "kernelspec": {
      "name": "python3",
      "display_name": "Python 3"
    },
    "language_info": {
      "name": "python"
    }
  },
  "cells": [
    {
      "cell_type": "markdown",
      "metadata": {
        "id": "view-in-github",
        "colab_type": "text"
      },
      "source": [
        "<a href=\"https://colab.research.google.com/github/shimulsarker10/Data-Analytics-Journey/blob/main/Data-Analytics-Journey/month-1-foundations/PythonBasics/PythonMatch.ipynb\" target=\"_parent\"><img src=\"https://colab.research.google.com/assets/colab-badge.svg\" alt=\"Open In Colab\"/></a>"
      ]
    },
    {
      "cell_type": "code",
      "source": [
        "#Python Match Statement\n",
        "day=4\n",
        "match day:\n",
        "  case 1:\n",
        "    print(\"Saturday\")\n",
        "  case 2:\n",
        "    print(\"Sunday\")\n",
        "  case 3:\n",
        "    print(\"Monday\")\n",
        "  case 4:\n",
        "    print('Tuesday')\n",
        "  case 5:\n",
        "    print(\"Wednesday\")\n",
        "  case 6:\n",
        "    print(\"Thursday\")\n",
        "  case 7:\n",
        "    print(\"friday\")"
      ],
      "metadata": {
        "colab": {
          "base_uri": "https://localhost:8080/"
        },
        "id": "_e1-NBuWuEid",
        "outputId": "b8bdc8d1-ddcb-447b-cabc-a299fbce569e"
      },
      "execution_count": 1,
      "outputs": [
        {
          "output_type": "stream",
          "name": "stdout",
          "text": [
            "Tuesday\n"
          ]
        }
      ]
    },
    {
      "cell_type": "markdown",
      "source": [
        "Use the underscore character _ as the last case value if you want a code block to execute when there are not other matches."
      ],
      "metadata": {
        "id": "3RHWP25Twvjt"
      }
    },
    {
      "cell_type": "code",
      "source": [
        "#Default Value\n",
        "name=6\n",
        "match name:\n",
        "  case 1:\n",
        "    print('saikat')\n",
        "  case 2:\n",
        "    print(\"shimul\")\n",
        "  case 3:\n",
        "    print(\"tanvir\")\n",
        "\n",
        "  case _:\n",
        "    print(\"Apuuuu\")"
      ],
      "metadata": {
        "colab": {
          "base_uri": "https://localhost:8080/"
        },
        "id": "vCNgfp-ZvggF",
        "outputId": "c39d92ce-088e-4223-9c77-08b1613b76c4"
      },
      "execution_count": 2,
      "outputs": [
        {
          "output_type": "stream",
          "name": "stdout",
          "text": [
            "Apuuuu\n"
          ]
        }
      ]
    },
    {
      "cell_type": "code",
      "source": [
        "#Combine Values\n",
        "day = 3\n",
        "match day:\n",
        "  case 1|2|3|4|5|6:\n",
        "    print(\"today is a weekend\")\n",
        "  case 7|8|9:\n",
        "    print(\"I love weekend\")"
      ],
      "metadata": {
        "colab": {
          "base_uri": "https://localhost:8080/"
        },
        "id": "Q4DczUFUS-9i",
        "outputId": "23234415-10f0-4fc7-a16c-4ad59582754c"
      },
      "execution_count": 5,
      "outputs": [
        {
          "output_type": "stream",
          "name": "stdout",
          "text": [
            "today is a weekend\n"
          ]
        }
      ]
    },
    {
      "cell_type": "code",
      "source": [
        "from re import M\n",
        "# if statements as guards\n",
        "month = 5\n",
        "day = 4\n",
        "match day:\n",
        "  case 1|2|3|4|5 if month == 4:\n",
        "    print(\"A weekend in April\")\n",
        "  case 1|2|3|4|5 if month == 5:\n",
        "    print(\"A weekend in May\")\n",
        "  case _:\n",
        "    print(\"no match\")"
      ],
      "metadata": {
        "colab": {
          "base_uri": "https://localhost:8080/"
        },
        "id": "L0nU7TlcU-zg",
        "outputId": "85d5dbfa-709c-49d6-8326-0c3bc5a1ad41"
      },
      "execution_count": 10,
      "outputs": [
        {
          "output_type": "stream",
          "name": "stdout",
          "text": [
            "A weekend in May\n"
          ]
        }
      ]
    }
  ]
}